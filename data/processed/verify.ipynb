{
 "cells": [
  {
   "cell_type": "code",
   "execution_count": 1,
   "metadata": {},
   "outputs": [
    {
     "name": "stdout",
     "output_type": "stream",
     "text": [
      "        Age    Gender  Blood_Pressure  Cholesterol_Level  Blood_Sugar_Level  \\\n",
      "0  0.449200 -1.034598       -0.098980           1.248538          -1.004368   \n",
      "1  1.197866 -1.034598        0.822840           1.180794          -1.715116   \n",
      "2 -0.126697  0.966559        0.400339          -0.354728          -0.211611   \n",
      "3 -0.932953 -1.034598       -0.098980           1.609837          -1.605770   \n",
      "4  0.679558  0.966559       -0.406254           0.029152          -1.496425   \n",
      "\n",
      "        BMI  Smoking_Status  Physical_Activity_Level  Family_History  \\\n",
      "0  1.231484       -0.007536                -1.254982        0.996008   \n",
      "1 -0.438299       -0.007536                -1.254982        0.996008   \n",
      "2  1.307000       -1.263472                 1.198551       -1.004008   \n",
      "3 -0.279310        1.248401                -1.254982        0.996008   \n",
      "4 -0.554458       -1.263472                -0.028216       -1.004008   \n",
      "\n",
      "   Medical_History  Disease  \n",
      "0         1.351268        1  \n",
      "1         0.650039        2  \n",
      "2        -0.752418        3  \n",
      "3        -0.051190        3  \n",
      "4        -0.752418        3  \n",
      "Age                        float64\n",
      "Gender                     float64\n",
      "Blood_Pressure             float64\n",
      "Cholesterol_Level          float64\n",
      "Blood_Sugar_Level          float64\n",
      "BMI                        float64\n",
      "Smoking_Status             float64\n",
      "Physical_Activity_Level    float64\n",
      "Family_History             float64\n",
      "Medical_History            float64\n",
      "Disease                      int64\n",
      "dtype: object\n"
     ]
    }
   ],
   "source": [
    "import pandas as pd\n",
    "\n",
    "# Load the preprocessed data\n",
    "df_processed = pd.read_csv('preprocessed_data.csv')\n",
    "\n",
    "# Check the first few rows and the data types\n",
    "print(df_processed.head())\n",
    "print(df_processed.dtypes)\n"
   ]
  }
 ],
 "metadata": {
  "kernelspec": {
   "display_name": "Python 3",
   "language": "python",
   "name": "python3"
  },
  "language_info": {
   "codemirror_mode": {
    "name": "ipython",
    "version": 3
   },
   "file_extension": ".py",
   "mimetype": "text/x-python",
   "name": "python",
   "nbconvert_exporter": "python",
   "pygments_lexer": "ipython3",
   "version": "3.12.2"
  }
 },
 "nbformat": 4,
 "nbformat_minor": 2
}
